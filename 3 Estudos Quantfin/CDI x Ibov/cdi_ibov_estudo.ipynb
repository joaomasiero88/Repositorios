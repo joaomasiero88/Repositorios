{
 "cells": [
  {
   "cell_type": "code",
   "execution_count": 44,
   "metadata": {},
   "outputs": [],
   "source": [
    "# Estudo comparativo entre CDI e IBOV - Histórico"
   ]
  },
  {
   "cell_type": "code",
   "execution_count": 51,
   "metadata": {},
   "outputs": [],
   "source": [
    "#Import libraries\n",
    "\n",
    "import warnings\n",
    "warnings.filterwarnings(\"ignore\")\n",
    "import pandas as pd\n",
    "import pandas_datareader as pdr\n",
    "import numpy as np\n",
    "import matplotlib.pyplot as plt\n",
    "plt.style.use('seaborn-whitegrid')\n",
    "%matplotlib inline\n",
    "\n",
    "import yfinance as yf #inicialmente vou usar dados de arquivo com pd.read_excel\n",
    "import requests\n",
    "from bs4 import BeautifulSoup"
   ]
  },
  {
   "cell_type": "code",
   "execution_count": 54,
   "metadata": {},
   "outputs": [],
   "source": [
    "# Importar dados\n",
    "def consulta_bc(codigo_bc):\n",
    "    url = 'http://api.bcb.gov.br/dados/serie/bcdata.sgs.{}/dados?formato=json'.format(codigo_bc)\n",
    "    df = pd.read_json(url)\n",
    "    df['data'] = pd.to_datetime(df['data'], dayfirst = True)\n",
    "    df.set_index('data', inplace = True)\n",
    "    return df.loc['1995-01-01' : '2023-03-01']\n",
    "\n",
    "pib = consulta_bc(4380)\n",
    "tx_selic = consulta_bc(4390)\n",
    "desemprego = consulta_bc(24369) \n",
    "m1 = consulta_bc(27791)\n",
    "igpm = consulta_bc(189)\n",
    "\n",
    "data = [[pib, tx_selic, desemprego, m1, igpm]]\n",
    "\n",
    "index = pd.date_range(start = '2015-01-01', end = '2020-09-01', freq = \"M\")\n",
    "\n",
    "df = pd.DataFrame(data, columns = [['Pib', 'Selic', 'Desemprego', 'M1', 'IGP-M']], index = index)\n",
    "data = [pib, tx_selic, desemprego, m1, igpm]\n",
    "df = pd.concat(data, axis=1)\n",
    "df.columns = ['Pib', 'Selic', 'Desemprego', 'M1', 'IGP-M']\n",
    "df.drop('M1')\n",
    "DF"
   ]
  },
  {
   "cell_type": "code",
   "execution_count": null,
   "metadata": {},
   "outputs": [],
   "source": []
  },
  {
   "cell_type": "code",
   "execution_count": 2,
   "metadata": {},
   "outputs": [
    {
     "name": "stdout",
     "output_type": "stream",
     "text": [
      "Requirement already satisfied: python-bcb in c:\\users\\joaom\\anaconda3\\lib\\site-packages (0.1.8)\n",
      "Requirement already satisfied: httpx<0.24.0,>=0.23.0 in c:\\users\\joaom\\anaconda3\\lib\\site-packages (from python-bcb) (0.23.3)\n",
      "Requirement already satisfied: requests<3.0.0,>=2.28.1 in c:\\users\\joaom\\anaconda3\\lib\\site-packages (from python-bcb) (2.28.1)\n",
      "Requirement already satisfied: lxml<5.0.0,>=4.9.1 in c:\\users\\joaom\\anaconda3\\lib\\site-packages (from python-bcb) (4.9.1)\n",
      "Requirement already satisfied: pandas<2.0.0,>=1.4.4 in c:\\users\\joaom\\anaconda3\\lib\\site-packages (from python-bcb) (1.4.4)\n",
      "Requirement already satisfied: certifi in c:\\users\\joaom\\anaconda3\\lib\\site-packages (from httpx<0.24.0,>=0.23.0->python-bcb) (2022.9.14)\n",
      "Requirement already satisfied: httpcore<0.17.0,>=0.15.0 in c:\\users\\joaom\\anaconda3\\lib\\site-packages (from httpx<0.24.0,>=0.23.0->python-bcb) (0.16.3)\n",
      "Requirement already satisfied: rfc3986[idna2008]<2,>=1.3 in c:\\users\\joaom\\anaconda3\\lib\\site-packages (from httpx<0.24.0,>=0.23.0->python-bcb) (1.5.0)\n",
      "Requirement already satisfied: sniffio in c:\\users\\joaom\\anaconda3\\lib\\site-packages (from httpx<0.24.0,>=0.23.0->python-bcb) (1.2.0)\n",
      "Requirement already satisfied: python-dateutil>=2.8.1 in c:\\users\\joaom\\anaconda3\\lib\\site-packages (from pandas<2.0.0,>=1.4.4->python-bcb) (2.8.2)\n",
      "Requirement already satisfied: numpy>=1.18.5 in c:\\users\\joaom\\anaconda3\\lib\\site-packages (from pandas<2.0.0,>=1.4.4->python-bcb) (1.21.5)\n",
      "Requirement already satisfied: pytz>=2020.1 in c:\\users\\joaom\\anaconda3\\lib\\site-packages (from pandas<2.0.0,>=1.4.4->python-bcb) (2022.7.1)\n",
      "Requirement already satisfied: charset-normalizer<3,>=2 in c:\\users\\joaom\\anaconda3\\lib\\site-packages (from requests<3.0.0,>=2.28.1->python-bcb) (2.0.4)\n",
      "Requirement already satisfied: urllib3<1.27,>=1.21.1 in c:\\users\\joaom\\anaconda3\\lib\\site-packages (from requests<3.0.0,>=2.28.1->python-bcb) (1.26.11)\n",
      "Requirement already satisfied: idna<4,>=2.5 in c:\\users\\joaom\\anaconda3\\lib\\site-packages (from requests<3.0.0,>=2.28.1->python-bcb) (3.3)\n",
      "Requirement already satisfied: h11<0.15,>=0.13 in c:\\users\\joaom\\anaconda3\\lib\\site-packages (from httpcore<0.17.0,>=0.15.0->httpx<0.24.0,>=0.23.0->python-bcb) (0.14.0)\n",
      "Requirement already satisfied: anyio<5.0,>=3.0 in c:\\users\\joaom\\anaconda3\\lib\\site-packages (from httpcore<0.17.0,>=0.15.0->httpx<0.24.0,>=0.23.0->python-bcb) (3.5.0)\n",
      "Requirement already satisfied: six>=1.5 in c:\\users\\joaom\\anaconda3\\lib\\site-packages (from python-dateutil>=2.8.1->pandas<2.0.0,>=1.4.4->python-bcb) (1.16.0)\n"
     ]
    }
   ],
   "source": [
    "# Importa as bibliotecas\n",
    "\n",
    "!pip install python-bcb\n",
    "from matplotlib import pyplot as plt\n",
    "import seaborn as sns\n",
    "import pandas as pd\n"
   ]
  },
  {
   "cell_type": "code",
   "execution_count": null,
   "metadata": {},
   "outputs": [],
   "source": []
  }
 ],
 "metadata": {
  "kernelspec": {
   "display_name": "base",
   "language": "python",
   "name": "python3"
  },
  "language_info": {
   "codemirror_mode": {
    "name": "ipython",
    "version": 3
   },
   "file_extension": ".py",
   "mimetype": "text/x-python",
   "name": "python",
   "nbconvert_exporter": "python",
   "pygments_lexer": "ipython3",
   "version": "3.9.13"
  },
  "orig_nbformat": 4
 },
 "nbformat": 4,
 "nbformat_minor": 2
}
