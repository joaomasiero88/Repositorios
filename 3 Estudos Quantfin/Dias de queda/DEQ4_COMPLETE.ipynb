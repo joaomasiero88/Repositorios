{
 "cells": [
  {
   "cell_type": "code",
   "execution_count": 1,
   "metadata": {},
   "outputs": [],
   "source": [
    "## DESCRIÇÃO AQUI - DEQ 4 "
   ]
  },
  {
   "cell_type": "code",
   "execution_count": 2,
   "metadata": {},
   "outputs": [],
   "source": [
    "# Imports\n",
    "import yfinance as yf\n",
    "import pandas as pd\n",
    "import numpy as np\n",
    "from datetime import datetime, timedelta\n",
    "import warnings\n",
    "warnings.filterwarnings(\"ignore\", category=FutureWarning)"
   ]
  },
  {
   "cell_type": "code",
   "execution_count": 3,
   "metadata": {},
   "outputs": [
    {
     "name": "stdout",
     "output_type": "stream",
     "text": [
      "[*********************100%***********************]  99 of 99 completed\n"
     ]
    }
   ],
   "source": [
    "# Definindo a lista de ativos que compõem o índice IBXX a partir de arquivo excel\n",
    "arquivo = pd.read_excel(\"ibxx.xlsx\")\n",
    "ibxx = arquivo['Código'].sort_values().tolist() #ordem alfabética, transforma em lista\n",
    "for i in range(len(ibxx)): #Adiciona '.SA' a cada ativo, para trabalhar com yfinance\n",
    "    ibxx[i] = ibxx[i]+\".SA\"\n",
    "# Carrega os dados de fechamentos de todos os ativos que compõesm o índice\n",
    "start = '1995-01-01'\n",
    "end = datetime.today() #Hoje#\n",
    "#cria um dataframe com os preços de fechamento dos ativos da lista ibxx:\n",
    "df = yf.download(tickers=ibxx, start=start, end=end).copy()[\"Adj Close\"].round(decimals=2)"
   ]
  },
  {
   "cell_type": "code",
   "execution_count": 4,
   "metadata": {},
   "outputs": [],
   "source": [
    "# next step: screening mostrando a lista de ativos que se enquadram no modelo\n",
    "lista_enquadrados = []\n",
    "def screening():\n",
    "    # Localizar quatro dias em queda:\n",
    "    for coluna in df.columns:\n",
    "        #Seleciona as últimas 4 linhas da coluna\n",
    "        ultimas_6_linhas = df[coluna].tail(6)\n",
    "        #Verifica se as últimas 4 linhas estão em ordem decrescente e se a quinta é maior que a sexta\n",
    "        cond1 = (ultimas_6_linhas.iloc[-1] < ultimas_6_linhas.iloc[-2]).all() and \\\n",
    "            (ultimas_6_linhas.iloc[-2] < ultimas_6_linhas.iloc[-3]).all() and \\\n",
    "            (ultimas_6_linhas.iloc[-3] < ultimas_6_linhas.iloc[-4]).all() and \\\n",
    "            (ultimas_6_linhas.iloc[-4] < ultimas_6_linhas.iloc[-5]).all()\n",
    "        cond2 = (ultimas_6_linhas.iloc[-5] > ultimas_6_linhas.iloc[-6]).all()\n",
    "\n",
    "        quatro_em_queda = cond1 and cond2\n",
    "        if quatro_em_queda:\n",
    "            lista_enquadrados.append(coluna)\n",
    "    return lista_enquadrados\n",
    "lista_enquadrados = screening()\n"
   ]
  },
  {
   "cell_type": "code",
   "execution_count": 5,
   "metadata": {},
   "outputs": [
    {
     "data": {
      "text/plain": [
       "{}"
      ]
     },
     "execution_count": 5,
     "metadata": {},
     "output_type": "execute_result"
    }
   ],
   "source": [
    "# next step: isolar os dados dos ativos contidos na lista e padronizar o formato de saida dos dataframes\n",
    "df_dict = {}\n",
    "for coluna in lista_enquadrados:\n",
    "    df_coluna = pd.DataFrame()\n",
    "    df_coluna['Close'] = df[coluna]\n",
    "    df_dict[coluna] = df_coluna\n",
    "for coluna, df in df_dict.items():\n",
    "    df.columns.name = coluna\n",
    "    \n",
    "df_dict\n"
   ]
  },
  {
   "cell_type": "code",
   "execution_count": 6,
   "metadata": {},
   "outputs": [],
   "source": [
    "#Função Backtest individual - Input: df, Output: df_result\n",
    "def apply_bt(df):\n",
    "    # Adiciona os preços deslocados de um em n dias, para trás, para calcular os retornos\n",
    "    df['1d'] = df['Close'].shift(-1)\n",
    "    df['2d'] = df['Close'].shift(-2)\n",
    "    df['3d'] = df['Close'].shift(-3)\n",
    "    df['4d'] = df['Close'].shift(-4)\n",
    "    df['5d'] = df['Close'].shift(-5)\n",
    "    df['6d'] = df['Close'].shift(-6)\n",
    "    df['7d'] = df['Close'].shift(-7)\n",
    "    df['8d'] = df['Close'].shift(-8)\n",
    "    df['9d'] = df['Close'].shift(-9)\n",
    "    df['10d'] = df['Close'].shift(-10)\n",
    "\n",
    "    # Adiciona a coluna \"sinal\"\n",
    "    # Percorre todas as linhas do dataframe e valida o sinal\n",
    "    for i in range(5, len(df)):\n",
    "        # Seleciona as últimas 6 linhas da coluna\n",
    "        ultimas_6_linhas = df.iloc[i-5:i+1, 0]\n",
    "        # Verifica se as últimas 4 linhas estão em ordem decrescente e se a quinta é maior que a sexta\n",
    "        cond1 = (ultimas_6_linhas.iloc[-1] < ultimas_6_linhas.iloc[-2]).all() and \\\n",
    "                (ultimas_6_linhas.iloc[-2] < ultimas_6_linhas.iloc[-3]).all() and \\\n",
    "                (ultimas_6_linhas.iloc[-3] < ultimas_6_linhas.iloc[-4]).all() and \\\n",
    "                (ultimas_6_linhas.iloc[-4] < ultimas_6_linhas.iloc[-5]).all()\n",
    "        cond2 = (ultimas_6_linhas.iloc[-5] > ultimas_6_linhas.iloc[-6]).all()\n",
    "        quatro_em_queda = cond1 and cond2\n",
    "        # Atribui 1 para a coluna 'sinal' se a condição for válida, 0 se não\n",
    "        if quatro_em_queda:\n",
    "            df.loc[df.index[i], 'sinal'] = 1\n",
    "        else:\n",
    "            df.loc[df.index[i], 'sinal'] = 0\n",
    "\n",
    "    # Remove as linhas onde há valores NaN e 0\n",
    "    df = df.dropna()\n",
    "    df = df.drop(df[df['sinal'] == 0].index)\n",
    "\n",
    "    # Cria df com o cálculo dos retornos\n",
    "    df_ret = pd.DataFrame()\n",
    "    df_ret['Close'] = df['Close']\n",
    "    df_ret['1'] = (((df['1d']/df['Close'])-1)*100).round(decimals=2)\n",
    "    df_ret['2'] = (((df['2d']/df['Close'])-1)*100).round(decimals=2)\n",
    "    df_ret['3'] = (((df['3d']/df['Close'])-1)*100).round(decimals=2)\n",
    "    df_ret['4'] = (((df['4d']/df['Close'])-1)*100).round(decimals=2)\n",
    "    df_ret['5'] = (((df['5d']/df['Close'])-1)*100).round(decimals=2)\n",
    "    df_ret['6'] = (((df['6d']/df['Close'])-1)*100).round(decimals=2)\n",
    "    df_ret['7'] = (((df['7d']/df['Close'])-1)*100).round(decimals=2)\n",
    "    df_ret['8'] = (((df['8d']/df['Close'])-1)*100).round(decimals=2)\n",
    "    df_ret['9'] = (((df['9d']/df['Close'])-1)*100).round(decimals=2)\n",
    "    df_ret['10'] = (((df['10d']/df['Close'])-1)*100).round(decimals=2)\n",
    "    df_ret\n",
    "\n",
    "    # Cria df com os resultados\n",
    "    df_result = pd.DataFrame(index=['Total ocorrências', 'Média +', 'Maior', 'Média -', 'Menor', 'Taxa% +', 'Taxa% -', 'Exp.Mat%'])\n",
    "    # Cria colunas para cada período\n",
    "    for i in range(1, 11):\n",
    "        periodo_coluna = str(i)\n",
    "        df_result[periodo_coluna] = pd.Series()\n",
    "    #Adiciona valores total operações\n",
    "    total_ops = df_ret.shape[0] #número de linhas no df já filtrado com os sinais válidos\n",
    "    df_result.loc['Total ocorrências'] = total_ops\n",
    "    df_result = df_result.fillna('')    \n",
    "\n",
    "    # Função calcula accuracy%\n",
    "    def acc_pct (coluna):\n",
    "        return((((coluna > 0).sum())/len(coluna))*100).round(decimals=2)\n",
    "    # Função calcula média +\n",
    "    def media_mais(df, coluna):\n",
    "        valores_positivos = df[df[coluna] > 0][coluna]\n",
    "        soma_positivos = valores_positivos.sum()\n",
    "        media_soma_positivos = soma_positivos / len(valores_positivos)\n",
    "        return media_soma_positivos.round(decimals=2)\n",
    "    # Função calcula média -\n",
    "    def media_menos(df, coluna):\n",
    "        valores_negativos = df[df[coluna] < 0][coluna]\n",
    "        soma_negativos = valores_negativos.sum()\n",
    "        media_soma_negativos = soma_negativos / len(valores_negativos)\n",
    "        return media_soma_negativos.round(decimals=2)\n",
    "    # Função Maior valor\n",
    "    def encontrar_maior_valor(df, coluna):\n",
    "        return df_ret[coluna].max()\n",
    "    # Função Menor Valor\n",
    "    def encontrar_menor_valor(df, coluna):\n",
    "        return df_ret[coluna].min()\n",
    "    # Função Exp Matemática\n",
    "    def calc_exp(df, coluna):\n",
    "        exp = (df_ret[coluna].mean())\n",
    "        return exp\n",
    "\n",
    "    # Atribuindo os valores no df:\n",
    "    for i in df_result.columns:\n",
    "        df_result.loc['Média +', i] = media_mais(df_ret, i)\n",
    "    for i in df_result.columns:\n",
    "        df_result.loc['Média -', i] = media_menos(df_ret, i)\n",
    "\n",
    "    for i in df_result.columns:\n",
    "        df_result.loc['Taxa% +', i] = acc_pct(df_ret[i])\n",
    "    for i in df_result.columns:\n",
    "        df_result.loc['Taxa% -', i] = 100 - acc_pct(df_ret[i])\n",
    "\n",
    "    for i in df_result.columns:\n",
    "        df_result.loc['Maior', i] = encontrar_maior_valor(df_ret[i], i)\n",
    "    for i in df_result.columns:\n",
    "        df_result.loc['Menor', i] = encontrar_menor_valor(df_ret[i], i)\n",
    "\n",
    "    for i in df_result.columns:\n",
    "        df_result.loc['Exp.Mat%', i] = calc_exp(df_ret[i], i)\n",
    "    \n",
    "    df_result.rename_axis(df.columns.name, axis=1, inplace=True) #aplica o nome do eixo das colunas\n",
    "    pd.set_option('display.width', 200) #formato exibido - padrão=80\n",
    "    return df_result, print(df_result), print('-' * len(df_result.columns))\n",
    "   "
   ]
  },
  {
   "cell_type": "code",
   "execution_count": 7,
   "metadata": {},
   "outputs": [
    {
     "name": "stdout",
     "output_type": "stream",
     "text": [
      "Nenhum ativo se enquadra na condição em 2023-08-25\n"
     ]
    }
   ],
   "source": [
    "#Exibe quais ativos se enquadram na condição:\n",
    "if lista_enquadrados == []:\n",
    "    print(\"Nenhum ativo se enquadra na condição em {}\".format(df.index[-1].strftime('%Y-%m-%d')))\n",
    "else:\n",
    "    print(\"Ativos em queda por 4 dias consecutivos em {}: \".format(df.index[-1].strftime('%Y-%m-%d')))\n",
    "    print(lista_enquadrados)\n",
    "    \n",
    "#Aplica bt individual para cada componente do df_dict (df dos ativos enquadrados)\n",
    "for chave in df_dict:\n",
    "    apply_bt(df_dict[chave])\n",
    "    "
   ]
  },
  {
   "cell_type": "code",
   "execution_count": null,
   "metadata": {},
   "outputs": [],
   "source": []
  },
  {
   "cell_type": "code",
   "execution_count": null,
   "metadata": {},
   "outputs": [],
   "source": []
  },
  {
   "cell_type": "code",
   "execution_count": null,
   "metadata": {},
   "outputs": [],
   "source": []
  }
 ],
 "metadata": {
  "kernelspec": {
   "display_name": "base",
   "language": "python",
   "name": "python3"
  },
  "language_info": {
   "codemirror_mode": {
    "name": "ipython",
    "version": 3
   },
   "file_extension": ".py",
   "mimetype": "text/x-python",
   "name": "python",
   "nbconvert_exporter": "python",
   "pygments_lexer": "ipython3",
   "version": "3.9.16"
  },
  "orig_nbformat": 4
 },
 "nbformat": 4,
 "nbformat_minor": 2
}
